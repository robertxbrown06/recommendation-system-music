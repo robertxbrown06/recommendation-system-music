{
 "cells": [
  {
   "cell_type": "markdown",
   "metadata": {
    "id": "DyAjEw4OHmDb"
   },
   "source": [
    "# **Music Recommendation System**"
   ]
  },
  {
   "cell_type": "markdown",
   "metadata": {
    "id": "Km5ozaHFh_cU"
   },
   "source": [
    "## **Milestone 1**"
   ]
  },
  {
   "cell_type": "markdown",
   "metadata": {
    "id": "BVUiyhYTHS1t"
   },
   "source": [
    "## **Problem Definition**\n",
    "\n",
    "**The context:** <br>Almost every internet-based company's revenue relies on the time consumers spend on its platform.\n",
    "These companies need to be able to figure out what kind of content is needed in order to increase\n",
    "customer time spent and make their experience better. <br>\n",
    "**The objectives:**<br> Build a recommendation system to propose the top 10 songs for a user based on the likelihood of\n",
    "listening to those songs.<br>\n",
    "**The key questions:** \n",
    "- How do users interact with each other?\n",
    "- How do songs interact with each other?\n",
    "- How do users and songs interact with each other?<br>\n",
    "\n",
    "**The problem formulation:** <br>What kind of content their customers are most likely to consume.\n",
    "\n",
    "\n",
    "## **Data Dictionary**\n",
    "\n",
    "The core data is the Taste Profile Subset released by the Echo Nest as part of the Million Song Dataset. There are two files in this dataset. The first file contains the details about the song id, titles, release, artist name, and the year of release. The second file contains the user id, song id, and the play count of users.\n",
    "\n",
    "song_data\n",
    "\n",
    "song_id - A unique id given to every song\n",
    "\n",
    "title - Title of the song\n",
    "\n",
    "Release - Name of the released album\n",
    "\n",
    "Artist_name - Name of the artist \n",
    "\n",
    "year - Year of release\n",
    "\n",
    "count_data\n",
    "\n",
    "user _id - A unique id given to the user\n",
    "\n",
    "song_id - A unique id given to the song\n",
    "\n",
    "play_count - Number of times the song was played\n",
    "\n",
    "## **Data Source**\n",
    "http://millionsongdataset.com/"
   ]
  },
  {
   "cell_type": "markdown",
   "metadata": {
    "id": "entENKtxK-g-"
   },
   "source": [
    "## **Important Notes**\n",
    "\n",
    "- This notebook can be considered a guide to refer to while solving the problem. The evaluation will be as per the Rubric shared for each Milestone. Unlike previous courses, it does not follow the pattern of the graded questions in different sections. This notebook would give you a direction on what steps need to be taken to get a feasible solution to the problem. Please note that this is just one way of doing this. **There can be other 'creative' ways to solve the problem, and we encourage you to feel free and explore them as an 'optional' exercise**. \n",
    "\n",
    "- In the notebook, there are markdown cells called Observations and Insights. It is a good practice to provide observations and extract insights from the outputs.\n",
    "\n",
    "- The naming convention for different variables can vary. **Please consider the code provided in this notebook as a sample code.**\n",
    "\n",
    "- All the outputs in the notebook are just for reference and can be different if you follow a different approach.\n",
    "\n",
    "- There are sections called **Think About It** in the notebook that will help you get a better understanding of the reasoning behind a particular technique/step. Interested learners can take alternative approaches if they want to explore different techniques."
   ]
  },
  {
   "cell_type": "markdown",
   "metadata": {
    "id": "NRJtXkTrHxMQ"
   },
   "source": [
    "### **Importing Libraries and the Dataset**"
   ]
  },
  {
   "cell_type": "markdown",
   "metadata": {
    "id": "OYjgoF4YGCVG"
   },
   "source": []
  },
  {
   "cell_type": "code",
   "execution_count": 1,
   "metadata": {
    "id": "6SRzOPXI2Efn"
   },
   "outputs": [],
   "source": [
    "# Mounting the drive\n",
    "#from google.colab import drive\n",
    "#drive.mount('/content/drive')"
   ]
  },
  {
   "cell_type": "code",
   "execution_count": 2,
   "metadata": {
    "id": "R4YvKrpzId3K"
   },
   "outputs": [],
   "source": [
    "# Used to ignore the warning given as output of the code\n",
    "import warnings\n",
    "warnings.filterwarnings('ignore')\n",
    "\n",
    "# Basic libraries of python for numeric and dataframe computations\n",
    "import numpy as np\n",
    "import pandas as pd\n",
    "\n",
    "# Basic library for data visualization\n",
    "import matplotlib.pyplot as plt\n",
    "\n",
    "# Slightly advanced library for data visualization\n",
    "import seaborn as sns\n",
    "\n",
    "# To compute the cosine similarity between two vectors\n",
    "from sklearn.metrics.pairwise import cosine_similarity\n",
    "\n",
    "# A dictionary output that does not raise a key error\n",
    "from collections import defaultdict\n",
    "\n",
    "# A performance metrics in sklearn\n",
    "from sklearn.metrics import mean_squared_error"
   ]
  },
  {
   "cell_type": "markdown",
   "metadata": {
    "id": "bUGKX140wf-S"
   },
   "source": [
    "### **Load the dataset**"
   ]
  },
  {
   "cell_type": "code",
   "execution_count": 3,
   "metadata": {
    "id": "si6ulhIYImck"
   },
   "outputs": [],
   "source": [
    "# Importing the datasets\n",
    "# count_df = pd.read_csv('/content/drive/MyDrive/ADSP/capstone/count_data.csv')\n",
    "# song_df = pd.read_csv('/content/drive/MyDrive/ADSP/capstone/song_data.csv')"
   ]
  },
  {
   "cell_type": "code",
   "execution_count": 4,
   "metadata": {
    "id": "ixZFxS87k5Yi"
   },
   "outputs": [],
   "source": [
    "# Importing the datasets\n",
    "count_df = pd.read_csv('count_data.csv')\n",
    "song_df = pd.read_csv('song_data.csv')"
   ]
  },
  {
   "cell_type": "markdown",
   "metadata": {
    "id": "12TKB2M7XyC6"
   },
   "source": [
    "### **Understanding the data by viewing a few observations**"
   ]
  },
  {
   "cell_type": "code",
   "execution_count": 5,
   "metadata": {
    "colab": {
     "base_uri": "https://localhost:8080/",
     "height": 363
    },
    "id": "GCLzBuYiXlPM",
    "outputId": "47c80816-4cb4-49fe-a878-ddc3c8faab88"
   },
   "outputs": [
    {
     "data": {
      "text/html": [
       "<div>\n",
       "<style scoped>\n",
       "    .dataframe tbody tr th:only-of-type {\n",
       "        vertical-align: middle;\n",
       "    }\n",
       "\n",
       "    .dataframe tbody tr th {\n",
       "        vertical-align: top;\n",
       "    }\n",
       "\n",
       "    .dataframe thead th {\n",
       "        text-align: right;\n",
       "    }\n",
       "</style>\n",
       "<table border=\"1\" class=\"dataframe\">\n",
       "  <thead>\n",
       "    <tr style=\"text-align: right;\">\n",
       "      <th></th>\n",
       "      <th>Unnamed: 0</th>\n",
       "      <th>user_id</th>\n",
       "      <th>song_id</th>\n",
       "      <th>play_count</th>\n",
       "    </tr>\n",
       "  </thead>\n",
       "  <tbody>\n",
       "    <tr>\n",
       "      <th>0</th>\n",
       "      <td>0</td>\n",
       "      <td>b80344d063b5ccb3212f76538f3d9e43d87dca9e</td>\n",
       "      <td>SOAKIMP12A8C130995</td>\n",
       "      <td>1</td>\n",
       "    </tr>\n",
       "    <tr>\n",
       "      <th>1</th>\n",
       "      <td>1</td>\n",
       "      <td>b80344d063b5ccb3212f76538f3d9e43d87dca9e</td>\n",
       "      <td>SOBBMDR12A8C13253B</td>\n",
       "      <td>2</td>\n",
       "    </tr>\n",
       "    <tr>\n",
       "      <th>2</th>\n",
       "      <td>2</td>\n",
       "      <td>b80344d063b5ccb3212f76538f3d9e43d87dca9e</td>\n",
       "      <td>SOBXHDL12A81C204C0</td>\n",
       "      <td>1</td>\n",
       "    </tr>\n",
       "    <tr>\n",
       "      <th>3</th>\n",
       "      <td>3</td>\n",
       "      <td>b80344d063b5ccb3212f76538f3d9e43d87dca9e</td>\n",
       "      <td>SOBYHAJ12A6701BF1D</td>\n",
       "      <td>1</td>\n",
       "    </tr>\n",
       "    <tr>\n",
       "      <th>4</th>\n",
       "      <td>4</td>\n",
       "      <td>b80344d063b5ccb3212f76538f3d9e43d87dca9e</td>\n",
       "      <td>SODACBL12A8C13C273</td>\n",
       "      <td>1</td>\n",
       "    </tr>\n",
       "    <tr>\n",
       "      <th>5</th>\n",
       "      <td>5</td>\n",
       "      <td>b80344d063b5ccb3212f76538f3d9e43d87dca9e</td>\n",
       "      <td>SODDNQT12A6D4F5F7E</td>\n",
       "      <td>5</td>\n",
       "    </tr>\n",
       "    <tr>\n",
       "      <th>6</th>\n",
       "      <td>6</td>\n",
       "      <td>b80344d063b5ccb3212f76538f3d9e43d87dca9e</td>\n",
       "      <td>SODXRTY12AB0180F3B</td>\n",
       "      <td>1</td>\n",
       "    </tr>\n",
       "    <tr>\n",
       "      <th>7</th>\n",
       "      <td>7</td>\n",
       "      <td>b80344d063b5ccb3212f76538f3d9e43d87dca9e</td>\n",
       "      <td>SOFGUAY12AB017B0A8</td>\n",
       "      <td>1</td>\n",
       "    </tr>\n",
       "    <tr>\n",
       "      <th>8</th>\n",
       "      <td>8</td>\n",
       "      <td>b80344d063b5ccb3212f76538f3d9e43d87dca9e</td>\n",
       "      <td>SOFRQTD12A81C233C0</td>\n",
       "      <td>1</td>\n",
       "    </tr>\n",
       "    <tr>\n",
       "      <th>9</th>\n",
       "      <td>9</td>\n",
       "      <td>b80344d063b5ccb3212f76538f3d9e43d87dca9e</td>\n",
       "      <td>SOHQWYZ12A6D4FA701</td>\n",
       "      <td>1</td>\n",
       "    </tr>\n",
       "  </tbody>\n",
       "</table>\n",
       "</div>"
      ],
      "text/plain": [
       "   Unnamed: 0                                   user_id             song_id  \\\n",
       "0           0  b80344d063b5ccb3212f76538f3d9e43d87dca9e  SOAKIMP12A8C130995   \n",
       "1           1  b80344d063b5ccb3212f76538f3d9e43d87dca9e  SOBBMDR12A8C13253B   \n",
       "2           2  b80344d063b5ccb3212f76538f3d9e43d87dca9e  SOBXHDL12A81C204C0   \n",
       "3           3  b80344d063b5ccb3212f76538f3d9e43d87dca9e  SOBYHAJ12A6701BF1D   \n",
       "4           4  b80344d063b5ccb3212f76538f3d9e43d87dca9e  SODACBL12A8C13C273   \n",
       "5           5  b80344d063b5ccb3212f76538f3d9e43d87dca9e  SODDNQT12A6D4F5F7E   \n",
       "6           6  b80344d063b5ccb3212f76538f3d9e43d87dca9e  SODXRTY12AB0180F3B   \n",
       "7           7  b80344d063b5ccb3212f76538f3d9e43d87dca9e  SOFGUAY12AB017B0A8   \n",
       "8           8  b80344d063b5ccb3212f76538f3d9e43d87dca9e  SOFRQTD12A81C233C0   \n",
       "9           9  b80344d063b5ccb3212f76538f3d9e43d87dca9e  SOHQWYZ12A6D4FA701   \n",
       "\n",
       "   play_count  \n",
       "0           1  \n",
       "1           2  \n",
       "2           1  \n",
       "3           1  \n",
       "4           1  \n",
       "5           5  \n",
       "6           1  \n",
       "7           1  \n",
       "8           1  \n",
       "9           1  "
      ]
     },
     "execution_count": 5,
     "metadata": {},
     "output_type": "execute_result"
    }
   ],
   "source": [
    "# See top 10 records of count_df data\n",
    "count_df.head(10)"
   ]
  },
  {
   "cell_type": "code",
   "execution_count": 6,
   "metadata": {
    "colab": {
     "base_uri": "https://localhost:8080/",
     "height": 459
    },
    "id": "tV1ed0ApXpu3",
    "outputId": "7e1aa684-b604-43ca-92fb-37ef2c291695"
   },
   "outputs": [
    {
     "data": {
      "text/html": [
       "<div>\n",
       "<style scoped>\n",
       "    .dataframe tbody tr th:only-of-type {\n",
       "        vertical-align: middle;\n",
       "    }\n",
       "\n",
       "    .dataframe tbody tr th {\n",
       "        vertical-align: top;\n",
       "    }\n",
       "\n",
       "    .dataframe thead th {\n",
       "        text-align: right;\n",
       "    }\n",
       "</style>\n",
       "<table border=\"1\" class=\"dataframe\">\n",
       "  <thead>\n",
       "    <tr style=\"text-align: right;\">\n",
       "      <th></th>\n",
       "      <th>song_id</th>\n",
       "      <th>title</th>\n",
       "      <th>release</th>\n",
       "      <th>artist_name</th>\n",
       "      <th>year</th>\n",
       "    </tr>\n",
       "  </thead>\n",
       "  <tbody>\n",
       "    <tr>\n",
       "      <th>0</th>\n",
       "      <td>SOQMMHC12AB0180CB8</td>\n",
       "      <td>Silent Night</td>\n",
       "      <td>Monster Ballads X-Mas</td>\n",
       "      <td>Faster Pussy cat</td>\n",
       "      <td>2003</td>\n",
       "    </tr>\n",
       "    <tr>\n",
       "      <th>1</th>\n",
       "      <td>SOVFVAK12A8C1350D9</td>\n",
       "      <td>Tanssi vaan</td>\n",
       "      <td>Karkuteillä</td>\n",
       "      <td>Karkkiautomaatti</td>\n",
       "      <td>1995</td>\n",
       "    </tr>\n",
       "    <tr>\n",
       "      <th>2</th>\n",
       "      <td>SOGTUKN12AB017F4F1</td>\n",
       "      <td>No One Could Ever</td>\n",
       "      <td>Butter</td>\n",
       "      <td>Hudson Mohawke</td>\n",
       "      <td>2006</td>\n",
       "    </tr>\n",
       "    <tr>\n",
       "      <th>3</th>\n",
       "      <td>SOBNYVR12A8C13558C</td>\n",
       "      <td>Si Vos Querés</td>\n",
       "      <td>De Culo</td>\n",
       "      <td>Yerba Brava</td>\n",
       "      <td>2003</td>\n",
       "    </tr>\n",
       "    <tr>\n",
       "      <th>4</th>\n",
       "      <td>SOHSBXH12A8C13B0DF</td>\n",
       "      <td>Tangle Of Aspens</td>\n",
       "      <td>Rene Ablaze Presents Winter Sessions</td>\n",
       "      <td>Der Mystic</td>\n",
       "      <td>0</td>\n",
       "    </tr>\n",
       "    <tr>\n",
       "      <th>5</th>\n",
       "      <td>SOZVAPQ12A8C13B63C</td>\n",
       "      <td>Symphony No. 1 G minor \"Sinfonie Serieuse\"/All...</td>\n",
       "      <td>Berwald: Symphonies Nos. 1/2/3/4</td>\n",
       "      <td>David Montgomery</td>\n",
       "      <td>0</td>\n",
       "    </tr>\n",
       "    <tr>\n",
       "      <th>6</th>\n",
       "      <td>SOQVRHI12A6D4FB2D7</td>\n",
       "      <td>We Have Got Love</td>\n",
       "      <td>Strictly The Best Vol. 34</td>\n",
       "      <td>Sasha / Turbulence</td>\n",
       "      <td>0</td>\n",
       "    </tr>\n",
       "    <tr>\n",
       "      <th>7</th>\n",
       "      <td>SOEYRFT12AB018936C</td>\n",
       "      <td>2 Da Beat Ch'yall</td>\n",
       "      <td>Da Bomb</td>\n",
       "      <td>Kris Kross</td>\n",
       "      <td>1993</td>\n",
       "    </tr>\n",
       "    <tr>\n",
       "      <th>8</th>\n",
       "      <td>SOPMIYT12A6D4F851E</td>\n",
       "      <td>Goodbye</td>\n",
       "      <td>Danny Boy</td>\n",
       "      <td>Joseph Locke</td>\n",
       "      <td>0</td>\n",
       "    </tr>\n",
       "    <tr>\n",
       "      <th>9</th>\n",
       "      <td>SOJCFMH12A8C13B0C2</td>\n",
       "      <td>Mama_ mama can't you see ?</td>\n",
       "      <td>March to cadence with the US marines</td>\n",
       "      <td>The Sun Harbor's Chorus-Documentary Recordings</td>\n",
       "      <td>0</td>\n",
       "    </tr>\n",
       "  </tbody>\n",
       "</table>\n",
       "</div>"
      ],
      "text/plain": [
       "              song_id                                              title  \\\n",
       "0  SOQMMHC12AB0180CB8                                       Silent Night   \n",
       "1  SOVFVAK12A8C1350D9                                        Tanssi vaan   \n",
       "2  SOGTUKN12AB017F4F1                                  No One Could Ever   \n",
       "3  SOBNYVR12A8C13558C                                      Si Vos Querés   \n",
       "4  SOHSBXH12A8C13B0DF                                   Tangle Of Aspens   \n",
       "5  SOZVAPQ12A8C13B63C  Symphony No. 1 G minor \"Sinfonie Serieuse\"/All...   \n",
       "6  SOQVRHI12A6D4FB2D7                                   We Have Got Love   \n",
       "7  SOEYRFT12AB018936C                                  2 Da Beat Ch'yall   \n",
       "8  SOPMIYT12A6D4F851E                                            Goodbye   \n",
       "9  SOJCFMH12A8C13B0C2                         Mama_ mama can't you see ?   \n",
       "\n",
       "                                release  \\\n",
       "0                 Monster Ballads X-Mas   \n",
       "1                           Karkuteillä   \n",
       "2                                Butter   \n",
       "3                               De Culo   \n",
       "4  Rene Ablaze Presents Winter Sessions   \n",
       "5      Berwald: Symphonies Nos. 1/2/3/4   \n",
       "6             Strictly The Best Vol. 34   \n",
       "7                               Da Bomb   \n",
       "8                             Danny Boy   \n",
       "9  March to cadence with the US marines   \n",
       "\n",
       "                                      artist_name  year  \n",
       "0                                Faster Pussy cat  2003  \n",
       "1                                Karkkiautomaatti  1995  \n",
       "2                                  Hudson Mohawke  2006  \n",
       "3                                     Yerba Brava  2003  \n",
       "4                                      Der Mystic     0  \n",
       "5                                David Montgomery     0  \n",
       "6                              Sasha / Turbulence     0  \n",
       "7                                      Kris Kross  1993  \n",
       "8                                    Joseph Locke     0  \n",
       "9  The Sun Harbor's Chorus-Documentary Recordings     0  "
      ]
     },
     "execution_count": 6,
     "metadata": {},
     "output_type": "execute_result"
    }
   ],
   "source": [
    "# See top 10 records of song_df data\n",
    "song_df.head(10)"
   ]
  },
  {
   "cell_type": "markdown",
   "metadata": {
    "id": "bvKb5FHcXzcN"
   },
   "source": [
    "### **Let us check the data types and and missing values of each column**"
   ]
  },
  {
   "cell_type": "code",
   "execution_count": 7,
   "metadata": {
    "colab": {
     "base_uri": "https://localhost:8080/"
    },
    "id": "yyoHc_cnX19J",
    "outputId": "8f267631-e6b6-49b6-c990-210ecb0a6559"
   },
   "outputs": [
    {
     "name": "stdout",
     "output_type": "stream",
     "text": [
      "<class 'pandas.core.frame.DataFrame'>\n",
      "RangeIndex: 2000000 entries, 0 to 1999999\n",
      "Data columns (total 4 columns):\n",
      " #   Column      Dtype \n",
      "---  ------      ----- \n",
      " 0   Unnamed: 0  int64 \n",
      " 1   user_id     object\n",
      " 2   song_id     object\n",
      " 3   play_count  int64 \n",
      "dtypes: int64(2), object(2)\n",
      "memory usage: 61.0+ MB\n"
     ]
    }
   ],
   "source": [
    "# See the info of the count_df data\n",
    "count_df.info()"
   ]
  },
  {
   "cell_type": "code",
   "execution_count": 8,
   "metadata": {
    "colab": {
     "base_uri": "https://localhost:8080/"
    },
    "id": "rz3zDx_LX42y",
    "outputId": "1e251327-a23d-4b93-e772-851b0207c1d2"
   },
   "outputs": [
    {
     "name": "stdout",
     "output_type": "stream",
     "text": [
      "<class 'pandas.core.frame.DataFrame'>\n",
      "RangeIndex: 1000000 entries, 0 to 999999\n",
      "Data columns (total 5 columns):\n",
      " #   Column       Non-Null Count    Dtype \n",
      "---  ------       --------------    ----- \n",
      " 0   song_id      1000000 non-null  object\n",
      " 1   title        999985 non-null   object\n",
      " 2   release      999995 non-null   object\n",
      " 3   artist_name  1000000 non-null  object\n",
      " 4   year         1000000 non-null  int64 \n",
      "dtypes: int64(1), object(4)\n",
      "memory usage: 38.1+ MB\n"
     ]
    }
   ],
   "source": [
    "# See the info of the song_df data\n",
    "song_df.info()"
   ]
  },
  {
   "cell_type": "code",
   "execution_count": 9,
   "metadata": {
    "colab": {
     "base_uri": "https://localhost:8080/"
    },
    "id": "z4G8vC9Dn0pr",
    "outputId": "d773dab7-85ae-4fff-aef9-c77ebe99b727"
   },
   "outputs": [
    {
     "name": "stdout",
     "output_type": "stream",
     "text": [
      "Unnamed: 0    0\n",
      "user_id       0\n",
      "song_id       0\n",
      "play_count    0\n",
      "dtype: int64\n",
      "total null values = 0\n"
     ]
    }
   ],
   "source": [
    "print(count_df.isnull().sum())\n",
    "print(\"total null values =\", count_df.isnull().sum().sum())"
   ]
  },
  {
   "cell_type": "code",
   "execution_count": 10,
   "metadata": {
    "colab": {
     "base_uri": "https://localhost:8080/"
    },
    "id": "sAIwxNoOqFWB",
    "outputId": "296934f6-a8b0-45eb-afb7-dba0f72841a0"
   },
   "outputs": [
    {
     "name": "stdout",
     "output_type": "stream",
     "text": [
      "song_id         0\n",
      "title          15\n",
      "release         5\n",
      "artist_name     0\n",
      "year            0\n",
      "dtype: int64\n",
      "total null values = 20\n"
     ]
    }
   ],
   "source": [
    "print(song_df.isnull().sum())\n",
    "print(\"total null values =\", song_df.isnull().sum().sum())"
   ]
  },
  {
   "cell_type": "markdown",
   "metadata": {
    "id": "Ze2TlWxpYadn"
   },
   "source": [
    "#### **Observations and Insights:**\n",
    "- The count_df dataset contains 2000000 observations and 4 variables.\n",
    "- The count_df dataset contains 2 numerical and 2 categorical variables.\n",
    "- The count_df dataset contains 0 null values.\n",
    "- The song_df dataset contains 1000000 observations and 5 variables.\n",
    "- The song_df dataset contains 1 numerical and 4 categorical variables.\n",
    "- The song_df dataset contains 20 null values (15 in title, 5 in release)."
   ]
  },
  {
   "cell_type": "code",
   "execution_count": 11,
   "metadata": {
    "colab": {
     "base_uri": "https://localhost:8080/",
     "height": 494
    },
    "id": "oTeurvID2T9U",
    "outputId": "e6f21d7d-e5f7-4d3d-f7d1-aeb158446a44"
   },
   "outputs": [
    {
     "data": {
      "text/html": [
       "<div>\n",
       "<style scoped>\n",
       "    .dataframe tbody tr th:only-of-type {\n",
       "        vertical-align: middle;\n",
       "    }\n",
       "\n",
       "    .dataframe tbody tr th {\n",
       "        vertical-align: top;\n",
       "    }\n",
       "\n",
       "    .dataframe thead th {\n",
       "        text-align: right;\n",
       "    }\n",
       "</style>\n",
       "<table border=\"1\" class=\"dataframe\">\n",
       "  <thead>\n",
       "    <tr style=\"text-align: right;\">\n",
       "      <th></th>\n",
       "      <th>user_id</th>\n",
       "      <th>song_id</th>\n",
       "      <th>play_count</th>\n",
       "      <th>title</th>\n",
       "      <th>release</th>\n",
       "      <th>artist_name</th>\n",
       "      <th>year</th>\n",
       "    </tr>\n",
       "  </thead>\n",
       "  <tbody>\n",
       "    <tr>\n",
       "      <th>0</th>\n",
       "      <td>b80344d063b5ccb3212f76538f3d9e43d87dca9e</td>\n",
       "      <td>SOAKIMP12A8C130995</td>\n",
       "      <td>1</td>\n",
       "      <td>The Cove</td>\n",
       "      <td>Thicker Than Water</td>\n",
       "      <td>Jack Johnson</td>\n",
       "      <td>0</td>\n",
       "    </tr>\n",
       "    <tr>\n",
       "      <th>1</th>\n",
       "      <td>b80344d063b5ccb3212f76538f3d9e43d87dca9e</td>\n",
       "      <td>SOBBMDR12A8C13253B</td>\n",
       "      <td>2</td>\n",
       "      <td>Entre Dos Aguas</td>\n",
       "      <td>Flamenco Para Niños</td>\n",
       "      <td>Paco De Lucia</td>\n",
       "      <td>1976</td>\n",
       "    </tr>\n",
       "    <tr>\n",
       "      <th>2</th>\n",
       "      <td>b80344d063b5ccb3212f76538f3d9e43d87dca9e</td>\n",
       "      <td>SOBXHDL12A81C204C0</td>\n",
       "      <td>1</td>\n",
       "      <td>Stronger</td>\n",
       "      <td>Graduation</td>\n",
       "      <td>Kanye West</td>\n",
       "      <td>2007</td>\n",
       "    </tr>\n",
       "    <tr>\n",
       "      <th>3</th>\n",
       "      <td>b80344d063b5ccb3212f76538f3d9e43d87dca9e</td>\n",
       "      <td>SOBYHAJ12A6701BF1D</td>\n",
       "      <td>1</td>\n",
       "      <td>Constellations</td>\n",
       "      <td>In Between Dreams</td>\n",
       "      <td>Jack Johnson</td>\n",
       "      <td>2005</td>\n",
       "    </tr>\n",
       "    <tr>\n",
       "      <th>4</th>\n",
       "      <td>b80344d063b5ccb3212f76538f3d9e43d87dca9e</td>\n",
       "      <td>SODACBL12A8C13C273</td>\n",
       "      <td>1</td>\n",
       "      <td>Learn To Fly</td>\n",
       "      <td>There Is Nothing Left To Lose</td>\n",
       "      <td>Foo Fighters</td>\n",
       "      <td>1999</td>\n",
       "    </tr>\n",
       "    <tr>\n",
       "      <th>5</th>\n",
       "      <td>b80344d063b5ccb3212f76538f3d9e43d87dca9e</td>\n",
       "      <td>SODDNQT12A6D4F5F7E</td>\n",
       "      <td>5</td>\n",
       "      <td>Apuesta Por El Rock 'N' Roll</td>\n",
       "      <td>Antología Audiovisual</td>\n",
       "      <td>Héroes del Silencio</td>\n",
       "      <td>2007</td>\n",
       "    </tr>\n",
       "    <tr>\n",
       "      <th>6</th>\n",
       "      <td>b80344d063b5ccb3212f76538f3d9e43d87dca9e</td>\n",
       "      <td>SODXRTY12AB0180F3B</td>\n",
       "      <td>1</td>\n",
       "      <td>Paper Gangsta</td>\n",
       "      <td>The Fame Monster</td>\n",
       "      <td>Lady GaGa</td>\n",
       "      <td>2008</td>\n",
       "    </tr>\n",
       "    <tr>\n",
       "      <th>7</th>\n",
       "      <td>b80344d063b5ccb3212f76538f3d9e43d87dca9e</td>\n",
       "      <td>SOFGUAY12AB017B0A8</td>\n",
       "      <td>1</td>\n",
       "      <td>Stacked Actors</td>\n",
       "      <td>There Is Nothing Left To Lose</td>\n",
       "      <td>Foo Fighters</td>\n",
       "      <td>1999</td>\n",
       "    </tr>\n",
       "    <tr>\n",
       "      <th>8</th>\n",
       "      <td>b80344d063b5ccb3212f76538f3d9e43d87dca9e</td>\n",
       "      <td>SOFRQTD12A81C233C0</td>\n",
       "      <td>1</td>\n",
       "      <td>Sehr kosmisch</td>\n",
       "      <td>Musik von Harmonia</td>\n",
       "      <td>Harmonia</td>\n",
       "      <td>0</td>\n",
       "    </tr>\n",
       "    <tr>\n",
       "      <th>9</th>\n",
       "      <td>b80344d063b5ccb3212f76538f3d9e43d87dca9e</td>\n",
       "      <td>SOHQWYZ12A6D4FA701</td>\n",
       "      <td>1</td>\n",
       "      <td>Heaven's gonna burn your eyes</td>\n",
       "      <td>Hôtel Costes 7 by Stéphane Pompougnac</td>\n",
       "      <td>Thievery Corporation feat. Emiliana Torrini</td>\n",
       "      <td>2002</td>\n",
       "    </tr>\n",
       "  </tbody>\n",
       "</table>\n",
       "</div>"
      ],
      "text/plain": [
       "                                    user_id             song_id  play_count  \\\n",
       "0  b80344d063b5ccb3212f76538f3d9e43d87dca9e  SOAKIMP12A8C130995           1   \n",
       "1  b80344d063b5ccb3212f76538f3d9e43d87dca9e  SOBBMDR12A8C13253B           2   \n",
       "2  b80344d063b5ccb3212f76538f3d9e43d87dca9e  SOBXHDL12A81C204C0           1   \n",
       "3  b80344d063b5ccb3212f76538f3d9e43d87dca9e  SOBYHAJ12A6701BF1D           1   \n",
       "4  b80344d063b5ccb3212f76538f3d9e43d87dca9e  SODACBL12A8C13C273           1   \n",
       "5  b80344d063b5ccb3212f76538f3d9e43d87dca9e  SODDNQT12A6D4F5F7E           5   \n",
       "6  b80344d063b5ccb3212f76538f3d9e43d87dca9e  SODXRTY12AB0180F3B           1   \n",
       "7  b80344d063b5ccb3212f76538f3d9e43d87dca9e  SOFGUAY12AB017B0A8           1   \n",
       "8  b80344d063b5ccb3212f76538f3d9e43d87dca9e  SOFRQTD12A81C233C0           1   \n",
       "9  b80344d063b5ccb3212f76538f3d9e43d87dca9e  SOHQWYZ12A6D4FA701           1   \n",
       "\n",
       "                           title                                release  \\\n",
       "0                       The Cove                     Thicker Than Water   \n",
       "1                Entre Dos Aguas                    Flamenco Para Niños   \n",
       "2                       Stronger                             Graduation   \n",
       "3                 Constellations                      In Between Dreams   \n",
       "4                   Learn To Fly          There Is Nothing Left To Lose   \n",
       "5   Apuesta Por El Rock 'N' Roll                  Antología Audiovisual   \n",
       "6                  Paper Gangsta                       The Fame Monster   \n",
       "7                 Stacked Actors          There Is Nothing Left To Lose   \n",
       "8                  Sehr kosmisch                     Musik von Harmonia   \n",
       "9  Heaven's gonna burn your eyes  Hôtel Costes 7 by Stéphane Pompougnac   \n",
       "\n",
       "                                   artist_name  year  \n",
       "0                                 Jack Johnson     0  \n",
       "1                                Paco De Lucia  1976  \n",
       "2                                   Kanye West  2007  \n",
       "3                                 Jack Johnson  2005  \n",
       "4                                 Foo Fighters  1999  \n",
       "5                          Héroes del Silencio  2007  \n",
       "6                                    Lady GaGa  2008  \n",
       "7                                 Foo Fighters  1999  \n",
       "8                                     Harmonia     0  \n",
       "9  Thievery Corporation feat. Emiliana Torrini  2002  "
      ]
     },
     "execution_count": 11,
     "metadata": {},
     "output_type": "execute_result"
    }
   ],
   "source": [
    "# Left merge the count_df and song_df data on \"song_id\". Drop duplicates from song_df data simultaneously\n",
    "df = pd.merge(count_df, song_df.drop_duplicates([\"song_id\"]),on=\"song_id\", how=\"left\")\n",
    "\n",
    "# Drop the column 'Unnamed: 0'\n",
    "df = df.drop(['Unnamed: 0'], axis=1)\n",
    "df.head(10)"
   ]
  },
  {
   "cell_type": "markdown",
   "metadata": {
    "id": "yWeY9ZT43XFX"
   },
   "source": [
    "**Think About It:** As the user_id and song_id are encrypted. Can they be encoded to numeric features?"
   ]
  },
  {
   "cell_type": "code",
   "execution_count": 12,
   "metadata": {
    "colab": {
     "base_uri": "https://localhost:8080/"
    },
    "id": "oxeoOVxh2T9U",
    "outputId": "92831fd6-d148-4416-dc21-e56e3eca2b5e"
   },
   "outputs": [],
   "source": [
    "# Apply label encoding for \"user_id\" and \"song_id\"\n",
    "from sklearn.preprocessing import LabelEncoder\n",
    "le = LabelEncoder()\n",
    "df['user_id'] = le.fit_transform(df['user_id']) \n",
    "\n",
    "df['song_id'] = le.fit_transform(df['song_id'])"
   ]
  },
  {
   "cell_type": "markdown",
   "metadata": {
    "id": "6Q9EFYwj35Ju"
   },
   "source": [
    "**Think About It:** As the data also contains users who have listened to very few songs and vice versa, is it required to filter the data so that it contains users who have listened to a good count of songs and vice versa?"
   ]
  },
  {
   "cell_type": "code",
   "execution_count": 13,
   "metadata": {
    "id": "7GGH9TW0_9uX"
   },
   "outputs": [],
   "source": [
    "# Get the column containing the users\n",
    "users = df.user_id\n",
    "\n",
    "# Create a dictionary from users to their number of songs\n",
    "ratings_count = dict()\n",
    "\n",
    "for user in users:\n",
    "    # If we already have the user, just add 1 to their rating count\n",
    "    if user in ratings_count:\n",
    "        ratings_count[user] += 1\n",
    "    \n",
    "    # Otherwise, set their rating count to 1\n",
    "    else:\n",
    "        ratings_count[user] = 1    "
   ]
  },
  {
   "cell_type": "code",
   "execution_count": 14,
   "metadata": {
    "id": "-cc6mOK7_9uX"
   },
   "outputs": [],
   "source": [
    "# We want our users to have listened at least 90 songs\n",
    "RATINGS_CUTOFF = 90\n",
    "\n",
    "# Create a list of users who need to be removed\n",
    "remove_users = []\n",
    "\n",
    "for user, num_ratings in ratings_count.items():\n",
    "    \n",
    "    if num_ratings < RATINGS_CUTOFF:\n",
    "        remove_users.append(user)\n",
    "\n",
    "df = df.loc[ ~ df.user_id.isin(remove_users)]"
   ]
  },
  {
   "cell_type": "code",
   "execution_count": 15,
   "metadata": {
    "id": "B5BS-Wk5_9uY"
   },
   "outputs": [],
   "source": [
    "# Get the column containing the songs\n",
    "songs = df.song_id\n",
    "\n",
    "# Create a dictionary from songs to their number of users\n",
    "ratings_count = dict()\n",
    "\n",
    "for song in songs:\n",
    "    # If we already have the song, just add 1 to their rating count\n",
    "    if song in ratings_count:\n",
    "        ratings_count[song] += 1\n",
    "    \n",
    "    # Otherwise, set their rating count to 1\n",
    "    else:\n",
    "        ratings_count[song] = 1    "
   ]
  },
  {
   "cell_type": "code",
   "execution_count": 16,
   "metadata": {
    "id": "_nCtGwGO_9uY"
   },
   "outputs": [],
   "source": [
    "# We want our song to be listened by atleast 120 users to be considred\n",
    "RATINGS_CUTOFF = 120\n",
    "\n",
    "remove_songs = []\n",
    "\n",
    "for song, num_ratings in ratings_count.items():\n",
    "    if num_ratings < RATINGS_CUTOFF:\n",
    "        remove_songs.append(song)\n",
    "\n",
    "df_final= df.loc[ ~ df.song_id.isin(remove_songs)]"
   ]
  },
  {
   "cell_type": "code",
   "execution_count": 17,
   "metadata": {
    "id": "8qaKeoMcGpad"
   },
   "outputs": [],
   "source": [
    "# Drop records with play_count more than(>) 5\n",
    "# previously, df_final = df_final[df_final.play_count > 5]\n",
    "df_final = df_final[df_final.play_count <= 5]"
   ]
  },
  {
   "cell_type": "code",
   "execution_count": 18,
   "metadata": {
    "colab": {
     "base_uri": "https://localhost:8080/"
    },
    "id": "aL1JZ00o5JtQ",
    "outputId": "5900823f-8b13-4dc4-a6fe-1166c0ef38f6"
   },
   "outputs": [
    {
     "data": {
      "text/plain": [
       "(117876, 7)"
      ]
     },
     "execution_count": 18,
     "metadata": {},
     "output_type": "execute_result"
    }
   ],
   "source": [
    "# Check the shape of the data\n",
    "df_final.shape"
   ]
  },
  {
   "cell_type": "code",
   "execution_count": 19,
   "metadata": {},
   "outputs": [
    {
     "data": {
      "text/html": [
       "<div>\n",
       "<style scoped>\n",
       "    .dataframe tbody tr th:only-of-type {\n",
       "        vertical-align: middle;\n",
       "    }\n",
       "\n",
       "    .dataframe tbody tr th {\n",
       "        vertical-align: top;\n",
       "    }\n",
       "\n",
       "    .dataframe thead th {\n",
       "        text-align: right;\n",
       "    }\n",
       "</style>\n",
       "<table border=\"1\" class=\"dataframe\">\n",
       "  <thead>\n",
       "    <tr style=\"text-align: right;\">\n",
       "      <th></th>\n",
       "      <th>user_id</th>\n",
       "      <th>song_id</th>\n",
       "      <th>play_count</th>\n",
       "      <th>title</th>\n",
       "      <th>release</th>\n",
       "      <th>artist_name</th>\n",
       "      <th>year</th>\n",
       "    </tr>\n",
       "  </thead>\n",
       "  <tbody>\n",
       "    <tr>\n",
       "      <th>200</th>\n",
       "      <td>6958</td>\n",
       "      <td>447</td>\n",
       "      <td>1</td>\n",
       "      <td>Daisy And Prudence</td>\n",
       "      <td>Distillation</td>\n",
       "      <td>Erin McKeown</td>\n",
       "      <td>2000</td>\n",
       "    </tr>\n",
       "    <tr>\n",
       "      <th>202</th>\n",
       "      <td>6958</td>\n",
       "      <td>512</td>\n",
       "      <td>1</td>\n",
       "      <td>The Ballad of Michael Valentine</td>\n",
       "      <td>Sawdust</td>\n",
       "      <td>The Killers</td>\n",
       "      <td>2004</td>\n",
       "    </tr>\n",
       "    <tr>\n",
       "      <th>203</th>\n",
       "      <td>6958</td>\n",
       "      <td>549</td>\n",
       "      <td>1</td>\n",
       "      <td>I Stand Corrected (Album)</td>\n",
       "      <td>Vampire Weekend</td>\n",
       "      <td>Vampire Weekend</td>\n",
       "      <td>2007</td>\n",
       "    </tr>\n",
       "    <tr>\n",
       "      <th>204</th>\n",
       "      <td>6958</td>\n",
       "      <td>703</td>\n",
       "      <td>1</td>\n",
       "      <td>They Might Follow You</td>\n",
       "      <td>Tiny Vipers</td>\n",
       "      <td>Tiny Vipers</td>\n",
       "      <td>2007</td>\n",
       "    </tr>\n",
       "    <tr>\n",
       "      <th>205</th>\n",
       "      <td>6958</td>\n",
       "      <td>719</td>\n",
       "      <td>1</td>\n",
       "      <td>Monkey Man</td>\n",
       "      <td>You Know I'm No Good</td>\n",
       "      <td>Amy Winehouse</td>\n",
       "      <td>2007</td>\n",
       "    </tr>\n",
       "  </tbody>\n",
       "</table>\n",
       "</div>"
      ],
      "text/plain": [
       "     user_id  song_id  play_count                            title  \\\n",
       "200     6958      447           1               Daisy And Prudence   \n",
       "202     6958      512           1  The Ballad of Michael Valentine   \n",
       "203     6958      549           1        I Stand Corrected (Album)   \n",
       "204     6958      703           1            They Might Follow You   \n",
       "205     6958      719           1                       Monkey Man   \n",
       "\n",
       "                  release      artist_name  year  \n",
       "200          Distillation     Erin McKeown  2000  \n",
       "202               Sawdust      The Killers  2004  \n",
       "203       Vampire Weekend  Vampire Weekend  2007  \n",
       "204           Tiny Vipers      Tiny Vipers  2007  \n",
       "205  You Know I'm No Good    Amy Winehouse  2007  "
      ]
     },
     "execution_count": 19,
     "metadata": {},
     "output_type": "execute_result"
    }
   ],
   "source": [
    "df_final.head()"
   ]
  },
  {
   "cell_type": "markdown",
   "metadata": {
    "id": "uZcr1Eke2T9W"
   },
   "source": [
    "## **Exploratory Data Analysis**"
   ]
  },
  {
   "cell_type": "markdown",
   "metadata": {
    "id": "ByuHmvWDeBJI"
   },
   "source": [
    "### **Let's check the total number of unique users, songs, artists in the data**"
   ]
  },
  {
   "cell_type": "markdown",
   "metadata": {
    "id": "DE_gukSJ2T9W"
   },
   "source": [
    "Total number of unique user id"
   ]
  },
  {
   "cell_type": "code",
   "execution_count": 20,
   "metadata": {
    "colab": {
     "base_uri": "https://localhost:8080/"
    },
    "id": "n5E24_Ec2T9W",
    "outputId": "234a4f20-8e54-4dbe-ab75-230d5ee1a3d3"
   },
   "outputs": [
    {
     "data": {
      "text/plain": [
       "3155"
      ]
     },
     "execution_count": 20,
     "metadata": {},
     "output_type": "execute_result"
    }
   ],
   "source": [
    "# Display total number of unique user_id\n",
    "df_final['user_id'].nunique()"
   ]
  },
  {
   "cell_type": "markdown",
   "metadata": {
    "id": "wV3BOTdJII-t"
   },
   "source": [
    "Total number of unique song id"
   ]
  },
  {
   "cell_type": "code",
   "execution_count": 21,
   "metadata": {
    "colab": {
     "base_uri": "https://localhost:8080/"
    },
    "id": "5SlpPkIE2T9W",
    "outputId": "9bf19c0a-2318-4bfa-b60a-89758fe75df2"
   },
   "outputs": [
    {
     "data": {
      "text/plain": [
       "563"
      ]
     },
     "execution_count": 21,
     "metadata": {},
     "output_type": "execute_result"
    }
   ],
   "source": [
    "# Display total number of unique song_id\n",
    "df_final['song_id'].nunique()"
   ]
  },
  {
   "cell_type": "markdown",
   "metadata": {
    "id": "eGXPsCjXVpUW"
   },
   "source": [
    "Total number of unique artists"
   ]
  },
  {
   "cell_type": "code",
   "execution_count": 22,
   "metadata": {
    "colab": {
     "base_uri": "https://localhost:8080/"
    },
    "id": "qSVUwb8h2T9X",
    "outputId": "456e1de2-0445-4c63-8fb3-91b64712864c"
   },
   "outputs": [
    {
     "data": {
      "text/plain": [
       "232"
      ]
     },
     "execution_count": 22,
     "metadata": {},
     "output_type": "execute_result"
    }
   ],
   "source": [
    "# Display total number of unique artists\n",
    "df_final['artist_name'].nunique()"
   ]
  },
  {
   "cell_type": "markdown",
   "metadata": {
    "id": "bvk-YAo-eGGW"
   },
   "source": [
    "#### **Observations and Insights:**\n",
    "- The df_final dataset contains 3155 unique users.\n",
    "- The df_final dataset contains 563 unique songs.\n",
    "- The df_final dataset contains 232 unique artists."
   ]
  },
  {
   "cell_type": "markdown",
   "metadata": {
    "id": "rLdIfv22ISBK"
   },
   "source": [
    "### **Let's find out about the most interacted songs and interacted users**"
   ]
  },
  {
   "cell_type": "markdown",
   "metadata": {
    "id": "W3DyN_8atsCx"
   },
   "source": [
    "Most interacted songs"
   ]
  },
  {
   "cell_type": "code",
   "execution_count": 23,
   "metadata": {
    "colab": {
     "base_uri": "https://localhost:8080/"
    },
    "id": "qWDrvIFF2T9X",
    "outputId": "eba88583-f9bf-4f56-8f30-9e8fede76152"
   },
   "outputs": [
    {
     "data": {
      "text/plain": [
       "song_id\n",
       "8582    751\n",
       "352     748\n",
       "2220    713\n",
       "1118    662\n",
       "4152    652\n",
       "5531    618\n",
       "4448    609\n",
       "6189    606\n",
       "6293    583\n",
       "1334    570\n",
       "dtype: int64"
      ]
     },
     "execution_count": 23,
     "metadata": {},
     "output_type": "execute_result"
    }
   ],
   "source": [
    "most_interacted_songs = df_final.groupby('song_id').size().sort_values(ascending = False)[:10]\n",
    "most_interacted_songs"
   ]
  },
  {
   "cell_type": "markdown",
   "metadata": {
    "id": "nnoXCc9zIV45"
   },
   "source": [
    "Most interacted users"
   ]
  },
  {
   "cell_type": "code",
   "execution_count": 24,
   "metadata": {
    "colab": {
     "base_uri": "https://localhost:8080/"
    },
    "id": "971EiBdf2T9X",
    "outputId": "c2dfe937-a63f-4811-f45f-aa4e094ba8d4"
   },
   "outputs": [
    {
     "data": {
      "text/plain": [
       "user_id\n",
       "61472    243\n",
       "15733    227\n",
       "37049    202\n",
       "9570     184\n",
       "23337    177\n",
       "10763    176\n",
       "9097     175\n",
       "26616    175\n",
       "43041    174\n",
       "65994    171\n",
       "dtype: int64"
      ]
     },
     "execution_count": 24,
     "metadata": {},
     "output_type": "execute_result"
    }
   ],
   "source": [
    "most_interacted_users = df_final.groupby('user_id').size().sort_values(ascending = False)[:10]\n",
    "most_interacted_users"
   ]
  },
  {
   "cell_type": "markdown",
   "metadata": {
    "id": "tPZRc1e-eyyO"
   },
   "source": [
    "#### **Observations and Insights:**\n",
    "- Song 8582 has the most interaction at 751.\n",
    "- User 61472 has the most interaction at 243."
   ]
  },
  {
   "cell_type": "markdown",
   "metadata": {
    "id": "joFF5zndX1Dk"
   },
   "source": [
    "Songs played in a year"
   ]
  },
  {
   "cell_type": "code",
   "execution_count": 25,
   "metadata": {
    "colab": {
     "base_uri": "https://localhost:8080/",
     "height": 237
    },
    "id": "bQp2iVMC2T9Y",
    "outputId": "9910e5a1-2234-4feb-82f9-329a50c5bae4"
   },
   "outputs": [
    {
     "data": {
      "text/html": [
       "<div>\n",
       "<style scoped>\n",
       "    .dataframe tbody tr th:only-of-type {\n",
       "        vertical-align: middle;\n",
       "    }\n",
       "\n",
       "    .dataframe tbody tr th {\n",
       "        vertical-align: top;\n",
       "    }\n",
       "\n",
       "    .dataframe thead th {\n",
       "        text-align: right;\n",
       "    }\n",
       "</style>\n",
       "<table border=\"1\" class=\"dataframe\">\n",
       "  <thead>\n",
       "    <tr style=\"text-align: right;\">\n",
       "      <th></th>\n",
       "      <th>title</th>\n",
       "    </tr>\n",
       "    <tr>\n",
       "      <th>year</th>\n",
       "      <th></th>\n",
       "    </tr>\n",
       "  </thead>\n",
       "  <tbody>\n",
       "    <tr>\n",
       "      <th>2006</th>\n",
       "      <td>7592</td>\n",
       "    </tr>\n",
       "    <tr>\n",
       "      <th>2007</th>\n",
       "      <td>13750</td>\n",
       "    </tr>\n",
       "    <tr>\n",
       "      <th>2008</th>\n",
       "      <td>14031</td>\n",
       "    </tr>\n",
       "    <tr>\n",
       "      <th>2009</th>\n",
       "      <td>16351</td>\n",
       "    </tr>\n",
       "    <tr>\n",
       "      <th>2010</th>\n",
       "      <td>4087</td>\n",
       "    </tr>\n",
       "  </tbody>\n",
       "</table>\n",
       "</div>"
      ],
      "text/plain": [
       "      title\n",
       "year       \n",
       "2006   7592\n",
       "2007  13750\n",
       "2008  14031\n",
       "2009  16351\n",
       "2010   4087"
      ]
     },
     "execution_count": 25,
     "metadata": {},
     "output_type": "execute_result"
    }
   ],
   "source": [
    "count_songs = df_final.groupby('year').count()['title']\n",
    "\n",
    "count = pd.DataFrame(count_songs)\n",
    "\n",
    "count.drop(count.index[0], inplace = True)\n",
    "\n",
    "count.tail()"
   ]
  },
  {
   "cell_type": "code",
   "execution_count": 26,
   "metadata": {
    "colab": {
     "base_uri": "https://localhost:8080/",
     "height": 394
    },
    "id": "bZCkOiAB2T9Y",
    "outputId": "04fc5c41-1c21-46f4-8048-1a8285d1b5b5"
   },
   "outputs": [
    {
     "data": {
      "image/png": "[encoded data removed]",
      "text/plain": [
       "<Figure size 2160x720 with 1 Axes>"
      ]
     },
     "metadata": {
      "needs_background": "light"
     },
     "output_type": "display_data"
    }
   ],
   "source": [
    "# Create the plot\n",
    "\n",
    "# Set the figure size\n",
    "plt.figure(figsize = (30, 10))\n",
    "\n",
    "sns.barplot(x = count.index,\n",
    "            y = 'title',\n",
    "            data = count,\n",
    "            estimator = np.median)\n",
    "\n",
    "# Set the y label of the plot\n",
    "plt.ylabel('number of titles played') \n",
    "\n",
    "# Show the plot\n",
    "plt.show()"
   ]
  },
  {
   "cell_type": "markdown",
   "metadata": {
    "id": "VUcXc7ZYfaGl"
   },
   "source": [
    "#### **Observations and Insights:** #\n",
    "- There were fewer than 2000 titles palyed before the year 2000.\n",
    "- In 2003, the numbe rof titles played spiked to ~ 8000.\n",
    "- in 2004, the number of titles played falls to ~ 2000.\n",
    "- After 2004, the number of titles played increases significantly year over year.\n",
    "- In 2009, the number of titles played reaches its apex at ~ 16,0000.\n",
    "- In 2010, the number of titles played drops significantly to ~ 4000."
   ]
  },
  {
   "cell_type": "markdown",
   "metadata": {
    "id": "RtAjyDMioHCp"
   },
   "source": [
    "**Think About It:** What other insights can be drawn using exploratory data analysis?"
   ]
  },
  {
   "cell_type": "markdown",
   "metadata": {
    "id": "uPq5Th7j5h9H"
   },
   "source": [
    "## **Proposed approach**\n",
    "**Potential techniques:**\n",
    "- rank-based using averages\n",
    "- User-user-similarity-based collaborative filtering\n",
    "- Item-item-similarity-based collaborative filtering\n",
    "- model-based (matrix factorization) collaborative filtering <br>\n",
    "\n",
    "**Overall solution design:** For these algorithms **grid search cross-validation is applied to find the best working model**, and using that the **corresponding predictions are done**.<br>\n",
    "**Measures of success:** For performance evaluation of these models **precision@k and recall@k** are introduced in this case study. Using these two metrics **F_1 score** is calculated for each working model.<br>"
   ]
  },
  {
   "cell_type": "code",
   "execution_count": 27,
   "metadata": {
    "id": "gRC-F3oSXqAe"
   },
   "outputs": [],
   "source": [
    "df_final.to_csv(\"df_final.csv\", index=False)"
   ]
  },
  {
   "cell_type": "code",
   "execution_count": 28,
   "metadata": {
    "colab": {
     "base_uri": "https://localhost:8080/",
     "height": 302
    },
    "id": "RQwfwxJQuStZ",
    "outputId": "37c486ef-65ae-4163-f4a9-b5a5979c9b33"
   },
   "outputs": [
    {
     "data": {
      "text/html": [
       "<div>\n",
       "<style scoped>\n",
       "    .dataframe tbody tr th:only-of-type {\n",
       "        vertical-align: middle;\n",
       "    }\n",
       "\n",
       "    .dataframe tbody tr th {\n",
       "        vertical-align: top;\n",
       "    }\n",
       "\n",
       "    .dataframe thead th {\n",
       "        text-align: right;\n",
       "    }\n",
       "</style>\n",
       "<table border=\"1\" class=\"dataframe\">\n",
       "  <thead>\n",
       "    <tr style=\"text-align: right;\">\n",
       "      <th></th>\n",
       "      <th>user_id</th>\n",
       "      <th>song_id</th>\n",
       "      <th>play_count</th>\n",
       "      <th>title</th>\n",
       "      <th>release</th>\n",
       "      <th>artist_name</th>\n",
       "      <th>year</th>\n",
       "    </tr>\n",
       "  </thead>\n",
       "  <tbody>\n",
       "    <tr>\n",
       "      <th>200</th>\n",
       "      <td>6958</td>\n",
       "      <td>447</td>\n",
       "      <td>1</td>\n",
       "      <td>Daisy And Prudence</td>\n",
       "      <td>Distillation</td>\n",
       "      <td>Erin McKeown</td>\n",
       "      <td>2000</td>\n",
       "    </tr>\n",
       "    <tr>\n",
       "      <th>202</th>\n",
       "      <td>6958</td>\n",
       "      <td>512</td>\n",
       "      <td>1</td>\n",
       "      <td>The Ballad of Michael Valentine</td>\n",
       "      <td>Sawdust</td>\n",
       "      <td>The Killers</td>\n",
       "      <td>2004</td>\n",
       "    </tr>\n",
       "    <tr>\n",
       "      <th>203</th>\n",
       "      <td>6958</td>\n",
       "      <td>549</td>\n",
       "      <td>1</td>\n",
       "      <td>I Stand Corrected (Album)</td>\n",
       "      <td>Vampire Weekend</td>\n",
       "      <td>Vampire Weekend</td>\n",
       "      <td>2007</td>\n",
       "    </tr>\n",
       "    <tr>\n",
       "      <th>204</th>\n",
       "      <td>6958</td>\n",
       "      <td>703</td>\n",
       "      <td>1</td>\n",
       "      <td>They Might Follow You</td>\n",
       "      <td>Tiny Vipers</td>\n",
       "      <td>Tiny Vipers</td>\n",
       "      <td>2007</td>\n",
       "    </tr>\n",
       "    <tr>\n",
       "      <th>205</th>\n",
       "      <td>6958</td>\n",
       "      <td>719</td>\n",
       "      <td>1</td>\n",
       "      <td>Monkey Man</td>\n",
       "      <td>You Know I'm No Good</td>\n",
       "      <td>Amy Winehouse</td>\n",
       "      <td>2007</td>\n",
       "    </tr>\n",
       "  </tbody>\n",
       "</table>\n",
       "</div>"
      ],
      "text/plain": [
       "     user_id  song_id  play_count                            title  \\\n",
       "200     6958      447           1               Daisy And Prudence   \n",
       "202     6958      512           1  The Ballad of Michael Valentine   \n",
       "203     6958      549           1        I Stand Corrected (Album)   \n",
       "204     6958      703           1            They Might Follow You   \n",
       "205     6958      719           1                       Monkey Man   \n",
       "\n",
       "                  release      artist_name  year  \n",
       "200          Distillation     Erin McKeown  2000  \n",
       "202               Sawdust      The Killers  2004  \n",
       "203       Vampire Weekend  Vampire Weekend  2007  \n",
       "204           Tiny Vipers      Tiny Vipers  2007  \n",
       "205  You Know I'm No Good    Amy Winehouse  2007  "
      ]
     },
     "execution_count": 28,
     "metadata": {},
     "output_type": "execute_result"
    }
   ],
   "source": [
    "df_final.head()"
   ]
  }
 ],
 "metadata": {
  "colab": {
   "collapsed_sections": [],
   "provenance": []
  },
  "kernelspec": {
   "display_name": "Python 3 (ipykernel)",
   "language": "python",
   "name": "python3"
  },
  "language_info": {
   "codemirror_mode": {
    "name": "ipython",
    "version": 3
   },
   "file_extension": ".py",
   "mimetype": "text/x-python",
   "name": "python",
   "nbconvert_exporter": "python",
   "pygments_lexer": "ipython3",
   "version": "3.9.7"
  }
 },
 "nbformat": 4,
 "nbformat_minor": 1
}
